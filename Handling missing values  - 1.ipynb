{
 "cells": [
  {
   "cell_type": "markdown",
   "id": "b9127c46",
   "metadata": {},
   "source": [
    "# Handling missing values in Pandas\n"
   ]
  },
  {
   "cell_type": "markdown",
   "id": "ab9a6382",
   "metadata": {},
   "source": [
    "# Methods for handling missing values\n"
   ]
  },
  {
   "cell_type": "markdown",
   "id": "1e618cf7",
   "metadata": {},
   "source": [
    "# isnull() - Generates a boolean mask\n",
    "              This fuction returns a True or False\n",
    "              True : Indicating the missing values\n",
    "              False: Indication the Non- missing values"
   ]
  },
  {
   "cell_type": "markdown",
   "id": "022f58d8",
   "metadata": {},
   "source": [
    "# not null() - This fucntion is just opposite to the isnull() function\n",
    "              This fuction returns a True or False which is completly opposite to isnull() func\n",
    "              True : Indicating the missing values\n",
    "              False: Indication the Non- missing values"
   ]
  },
  {
   "cell_type": "markdown",
   "id": "9739e622",
   "metadata": {},
   "source": [
    "# dropna() - This function drops the missing value at a row level \n",
    "                \n",
    "                    Means if any cell that contains a missing value then automatically the dropna() function will delete the entire row  (oka  cell lo na vunna kuda motham row ni delete chesthadhi dropna() func ).\n",
    "                "
   ]
  },
  {
   "cell_type": "markdown",
   "id": "a1daba9a",
   "metadata": {},
   "source": [
    "# fillna()    - This function returns a copy of the data with missing values filled or imputed\n"
   ]
  },
  {
   "cell_type": "markdown",
   "id": "4fe121d5",
   "metadata": {},
   "source": [
    "        WE CAN handle or operate the missing values by using the above 4 methods\n",
    "        \n",
    "        QUE: How to identify the null values \n",
    "        ANS: Using isnull() and notnull() we can easily find the null values which they return True or False"
   ]
  },
  {
   "cell_type": "code",
   "execution_count": 1,
   "id": "0c72f9f3",
   "metadata": {},
   "outputs": [],
   "source": [
    "import numpy as np\n",
    "\n",
    "import pandas as pd"
   ]
  },
  {
   "cell_type": "code",
   "execution_count": 2,
   "id": "72e84e49",
   "metadata": {},
   "outputs": [
    {
     "data": {
      "text/plain": [
       "0         5\n",
       "1       NaN\n",
       "2    Python\n",
       "3      None\n",
       "dtype: object"
      ]
     },
     "execution_count": 2,
     "metadata": {},
     "output_type": "execute_result"
    }
   ],
   "source": [
    "data = pd.Series([ 5 , np.nan, \"Python\", None])\n",
    "\n",
    "data   # printing the series.                   "
   ]
  },
  {
   "cell_type": "code",
   "execution_count": 3,
   "id": "2e7c9649",
   "metadata": {},
   "outputs": [
    {
     "data": {
      "text/plain": [
       "0    False\n",
       "1     True\n",
       "2    False\n",
       "3     True\n",
       "dtype: bool"
      ]
     },
     "execution_count": 3,
     "metadata": {},
     "output_type": "execute_result"
    }
   ],
   "source": [
    "data.isnull()      #True : Missing value | False : returns non missing values( 1st and 3rd idexes returns True | 0 and 2 returns Flase)"
   ]
  },
  {
   "cell_type": "code",
   "execution_count": 4,
   "id": "6d5c5cc5",
   "metadata": {},
   "outputs": [
    {
     "data": {
      "text/plain": [
       "0     True\n",
       "1    False\n",
       "2     True\n",
       "3    False\n",
       "dtype: bool"
      ]
     },
     "execution_count": 4,
     "metadata": {},
     "output_type": "execute_result"
    }
   ],
   "source": [
    "data.notnull()  #True :  Non Missing value | False : returns missing values( 0 and 2 indexes returns True | 1 and 3 returns False)"
   ]
  },
  {
   "cell_type": "code",
   "execution_count": 5,
   "id": "5fc914e4",
   "metadata": {},
   "outputs": [
    {
     "data": {
      "text/plain": [
       "0         5\n",
       "2    Python\n",
       "dtype: object"
      ]
     },
     "execution_count": 5,
     "metadata": {},
     "output_type": "execute_result"
    }
   ],
   "source": [
    "data[data.notnull()] # To return only not null values or data[~data.isnull()]"
   ]
  },
  {
   "cell_type": "code",
   "execution_count": 6,
   "id": "896122aa",
   "metadata": {},
   "outputs": [
    {
     "data": {
      "text/plain": [
       "1     NaN\n",
       "3    None\n",
       "dtype: object"
      ]
     },
     "execution_count": 6,
     "metadata": {},
     "output_type": "execute_result"
    }
   ],
   "source": [
    "data[~data.notnull()] # To return only null values with negation (~).or data[data.isnull()]"
   ]
  },
  {
   "cell_type": "code",
   "execution_count": 7,
   "id": "b78d2587",
   "metadata": {},
   "outputs": [
    {
     "data": {
      "text/plain": [
       "1     NaN\n",
       "3    None\n",
       "dtype: object"
      ]
     },
     "execution_count": 7,
     "metadata": {},
     "output_type": "execute_result"
    }
   ],
   "source": [
    "data[data.isnull()] # only not null values (true - nulls)"
   ]
  },
  {
   "cell_type": "code",
   "execution_count": 8,
   "id": "48cfffa2",
   "metadata": {},
   "outputs": [
    {
     "data": {
      "text/plain": [
       "0         5\n",
       "2    Python\n",
       "dtype: object"
      ]
     },
     "execution_count": 8,
     "metadata": {},
     "output_type": "execute_result"
    }
   ],
   "source": [
    "data[~data.isnull()] # Only null values (false - not nulls)"
   ]
  },
  {
   "cell_type": "markdown",
   "id": "b5bff7df",
   "metadata": {},
   "source": [
    "# EXAMPLE - 2"
   ]
  },
  {
   "cell_type": "code",
   "execution_count": 11,
   "id": "a05555e3",
   "metadata": {},
   "outputs": [
    {
     "data": {
      "text/plain": [
       "0       5\n",
       "1     NaN\n",
       "2    None\n",
       "3    None\n",
       "4        \n",
       "5        \n",
       "6    null\n",
       "dtype: object"
      ]
     },
     "execution_count": 11,
     "metadata": {},
     "output_type": "execute_result"
    }
   ],
   "source": [
    "data1 = pd.Series([5, np.nan, None, \"None\" ,\" \" ,\" \", \"null\" ])    # (missing value) None != \"none\"(string)\n",
    "data1"
   ]
  },
  {
   "cell_type": "code",
   "execution_count": 12,
   "id": "c69332f6",
   "metadata": {},
   "outputs": [
    {
     "data": {
      "text/plain": [
       "0    False\n",
       "1     True\n",
       "2     True\n",
       "3    False\n",
       "4    False\n",
       "5    False\n",
       "6    False\n",
       "dtype: bool"
      ]
     },
     "execution_count": 12,
     "metadata": {},
     "output_type": "execute_result"
    }
   ],
   "source": [
    "data1.isnull()"
   ]
  },
  {
   "cell_type": "code",
   "execution_count": 13,
   "id": "3bfc8a49",
   "metadata": {},
   "outputs": [
    {
     "data": {
      "text/plain": [
       "0     True\n",
       "1    False\n",
       "2    False\n",
       "3     True\n",
       "4     True\n",
       "5     True\n",
       "6     True\n",
       "dtype: bool"
      ]
     },
     "execution_count": 13,
     "metadata": {},
     "output_type": "execute_result"
    }
   ],
   "source": [
    "data1.notnull() #opposite to isnull()"
   ]
  },
  {
   "cell_type": "markdown",
   "id": "be716e45",
   "metadata": {},
   "source": [
    "# EXAMPLE - 1 Dropna()"
   ]
  },
  {
   "cell_type": "markdown",
   "id": "10ae7af6",
   "metadata": {},
   "source": [
    "# dropna() - Any cell will null values then the complete row will gets deleted"
   ]
  },
  {
   "cell_type": "code",
   "execution_count": 14,
   "id": "44ad07fe",
   "metadata": {},
   "outputs": [
    {
     "data": {
      "text/plain": [
       "0       8\n",
       "1     NaN\n",
       "2     abc\n",
       "3    None\n",
       "dtype: object"
      ]
     },
     "execution_count": 14,
     "metadata": {},
     "output_type": "execute_result"
    }
   ],
   "source": [
    "data2 = pd. Series([8, np.nan, \"abc\", None])\n",
    "data2"
   ]
  },
  {
   "cell_type": "code",
   "execution_count": 15,
   "id": "bc275655",
   "metadata": {},
   "outputs": [
    {
     "data": {
      "text/plain": [
       "0         5\n",
       "2    Python\n",
       "dtype: object"
      ]
     },
     "execution_count": 15,
     "metadata": {},
     "output_type": "execute_result"
    }
   ],
   "source": [
    "data.dropna()   # Here even 1 NaN is found then completely that row will get delete. WHY ONLY ROW?->Bcoz axis=0 by default means row. "
   ]
  },
  {
   "cell_type": "markdown",
   "id": "74ab5b7c",
   "metadata": {},
   "source": [
    "# EXAMPLE - 2 Dropna()"
   ]
  },
  {
   "cell_type": "code",
   "execution_count": 19,
   "id": "d69c9647",
   "metadata": {},
   "outputs": [
    {
     "data": {
      "text/html": [
       "<div>\n",
       "<style scoped>\n",
       "    .dataframe tbody tr th:only-of-type {\n",
       "        vertical-align: middle;\n",
       "    }\n",
       "\n",
       "    .dataframe tbody tr th {\n",
       "        vertical-align: top;\n",
       "    }\n",
       "\n",
       "    .dataframe thead th {\n",
       "        text-align: right;\n",
       "    }\n",
       "</style>\n",
       "<table border=\"1\" class=\"dataframe\">\n",
       "  <thead>\n",
       "    <tr style=\"text-align: right;\">\n",
       "      <th></th>\n",
       "      <th>A</th>\n",
       "      <th>B</th>\n",
       "      <th>C</th>\n",
       "    </tr>\n",
       "  </thead>\n",
       "  <tbody>\n",
       "    <tr>\n",
       "      <th>0</th>\n",
       "      <td>1.0</td>\n",
       "      <td>NaN</td>\n",
       "      <td>3</td>\n",
       "    </tr>\n",
       "    <tr>\n",
       "      <th>1</th>\n",
       "      <td>5.0</td>\n",
       "      <td>8.0</td>\n",
       "      <td>9</td>\n",
       "    </tr>\n",
       "    <tr>\n",
       "      <th>2</th>\n",
       "      <td>NaN</td>\n",
       "      <td>7.0</td>\n",
       "      <td>6</td>\n",
       "    </tr>\n",
       "  </tbody>\n",
       "</table>\n",
       "</div>"
      ],
      "text/plain": [
       "     A    B  C\n",
       "0  1.0  NaN  3\n",
       "1  5.0  8.0  9\n",
       "2  NaN  7.0  6"
      ]
     },
     "execution_count": 19,
     "metadata": {},
     "output_type": "execute_result"
    }
   ],
   "source": [
    "df=pd.DataFrame([[1, np.nan, 3], [5, 8, 9], [None, 7, 6]],  columns=[\"A\", \"B\", \"C\"])  #columns= [] is like customising our own column names.-> DataFrame rows dafault 0,1,2,3,4\n",
    "\n",
    "df"
   ]
  },
  {
   "cell_type": "code",
   "execution_count": 20,
   "id": "3ffa2d06",
   "metadata": {},
   "outputs": [
    {
     "data": {
      "text/html": [
       "<div>\n",
       "<style scoped>\n",
       "    .dataframe tbody tr th:only-of-type {\n",
       "        vertical-align: middle;\n",
       "    }\n",
       "\n",
       "    .dataframe tbody tr th {\n",
       "        vertical-align: top;\n",
       "    }\n",
       "\n",
       "    .dataframe thead th {\n",
       "        text-align: right;\n",
       "    }\n",
       "</style>\n",
       "<table border=\"1\" class=\"dataframe\">\n",
       "  <thead>\n",
       "    <tr style=\"text-align: right;\">\n",
       "      <th></th>\n",
       "      <th>A</th>\n",
       "      <th>B</th>\n",
       "      <th>C</th>\n",
       "    </tr>\n",
       "  </thead>\n",
       "  <tbody>\n",
       "    <tr>\n",
       "      <th>1</th>\n",
       "      <td>5.0</td>\n",
       "      <td>8.0</td>\n",
       "      <td>9</td>\n",
       "    </tr>\n",
       "  </tbody>\n",
       "</table>\n",
       "</div>"
      ],
      "text/plain": [
       "     A    B  C\n",
       "1  5.0  8.0  9"
      ]
     },
     "execution_count": 20,
     "metadata": {},
     "output_type": "execute_result"
    }
   ],
   "source": [
    "df.dropna() #See the above output, the dropna dletes the complete rows that have NaN except 1st row coz no \"NaN's\""
   ]
  },
  {
   "cell_type": "code",
   "execution_count": 22,
   "id": "88ec341d",
   "metadata": {},
   "outputs": [
    {
     "data": {
      "text/html": [
       "<div>\n",
       "<style scoped>\n",
       "    .dataframe tbody tr th:only-of-type {\n",
       "        vertical-align: middle;\n",
       "    }\n",
       "\n",
       "    .dataframe tbody tr th {\n",
       "        vertical-align: top;\n",
       "    }\n",
       "\n",
       "    .dataframe thead th {\n",
       "        text-align: right;\n",
       "    }\n",
       "</style>\n",
       "<table border=\"1\" class=\"dataframe\">\n",
       "  <thead>\n",
       "    <tr style=\"text-align: right;\">\n",
       "      <th></th>\n",
       "      <th>C</th>\n",
       "    </tr>\n",
       "  </thead>\n",
       "  <tbody>\n",
       "    <tr>\n",
       "      <th>0</th>\n",
       "      <td>3</td>\n",
       "    </tr>\n",
       "    <tr>\n",
       "      <th>1</th>\n",
       "      <td>9</td>\n",
       "    </tr>\n",
       "    <tr>\n",
       "      <th>2</th>\n",
       "      <td>6</td>\n",
       "    </tr>\n",
       "  </tbody>\n",
       "</table>\n",
       "</div>"
      ],
      "text/plain": [
       "   C\n",
       "0  3\n",
       "1  9\n",
       "2  6"
      ]
     },
     "execution_count": 22,
     "metadata": {},
     "output_type": "execute_result"
    }
   ],
   "source": [
    "df.dropna(axis=\"columns\") #So, here we gave column wise so, it checks if there are any Null's even 1 NaN in column and drops the complete column."
   ]
  },
  {
   "cell_type": "markdown",
   "id": "c3d06dfe",
   "metadata": {},
   "source": [
    "#  axis = 0 -> Rows\n"
   ]
  },
  {
   "cell_type": "markdown",
   "id": "f1c5552e",
   "metadata": {},
   "source": [
    "# axis=1 -> Columns\n"
   ]
  },
  {
   "cell_type": "code",
   "execution_count": null,
   "id": "accdb0ea",
   "metadata": {},
   "outputs": [],
   "source": []
  }
 ],
 "metadata": {
  "kernelspec": {
   "display_name": "Python 3 (ipykernel)",
   "language": "python",
   "name": "python3"
  },
  "language_info": {
   "codemirror_mode": {
    "name": "ipython",
    "version": 3
   },
   "file_extension": ".py",
   "mimetype": "text/x-python",
   "name": "python",
   "nbconvert_exporter": "python",
   "pygments_lexer": "ipython3",
   "version": "3.10.9"
  }
 },
 "nbformat": 4,
 "nbformat_minor": 5
}
